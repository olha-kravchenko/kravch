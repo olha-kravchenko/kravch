{
 "cells": [
  {
   "cell_type": "markdown",
   "metadata": {},
   "source": [
    "# Text classification with sklearn\n",
    "\n",
    "https://scikit-learn.org/stable/tutorial/text_analytics/working_with_text_data.html"
   ]
  },
  {
   "cell_type": "code",
   "execution_count": null,
   "metadata": {},
   "outputs": [],
   "source": [
    "from sklearn.feature_extraction.text import TfidfVectorizer, CountVectorizer\n",
    "from sklearn.datasets import fetch_20newsgroups\n",
    "from sklearn.linear_model import LogisticRegression\n",
    "from sklearn.metrics import classification_report,confusion_matrix"
   ]
  },
  {
   "cell_type": "code",
   "execution_count": null,
   "metadata": {},
   "outputs": [],
   "source": [
    "all_train = fetch_20newsgroups(subset='train')"
   ]
  },
  {
   "cell_type": "code",
   "execution_count": null,
   "metadata": {},
   "outputs": [],
   "source": [
    "all_train.target_names"
   ]
  },
  {
   "cell_type": "code",
   "execution_count": null,
   "metadata": {},
   "outputs": [],
   "source": [
    " print(\"\\n\".join(all_train.data[0].split(\"\\n\")[:10]))"
   ]
  },
  {
   "cell_type": "code",
   "execution_count": null,
   "metadata": {},
   "outputs": [],
   "source": [
    "categories = ['rec.autos', 'rec.sport.baseball', 'sci.space']"
   ]
  },
  {
   "cell_type": "code",
   "execution_count": null,
   "metadata": {},
   "outputs": [],
   "source": [
    "newsgroups_train = fetch_20newsgroups(subset='train', remove=('headers', 'footers', 'quotes'), categories=categories)\n",
    "newsgroups_test = fetch_20newsgroups(subset='test', remove=('headers', 'footers', 'quotes'), categories=categories)"
   ]
  },
  {
   "cell_type": "code",
   "execution_count": null,
   "metadata": {},
   "outputs": [],
   "source": [
    "newsgroups_train.data[0][:500]"
   ]
  },
  {
   "cell_type": "markdown",
   "metadata": {},
   "source": [
    "## Vectorization with CountVectorizer"
   ]
  },
  {
   "cell_type": "code",
   "execution_count": null,
   "metadata": {},
   "outputs": [],
   "source": [
    "# example 1\n",
    "\n",
    "n_features = 1000 \n",
    "count_vectorizer = CountVectorizer(max_df=0.95, min_df=0.05,\n",
    "                                max_features=n_features,\n",
    "                                stop_words='english')\n",
    "\n",
    "train_count_vectorizer = count_vectorizer.fit_transform(newsgroups_train.data)\n",
    "test_count_vectorizer = count_vectorizer.transform(newsgroups_test.data)\n",
    "\n",
    "clf = LogisticRegression(random_state=0).fit(train_count_vectorizer, newsgroups_train.target)\n",
    "predicted = clf.predict(test_count_vectorizer)\n",
    "\n",
    "print(classification_report(newsgroups_test.target, predicted))"
   ]
  },
  {
   "cell_type": "code",
   "execution_count": null,
   "metadata": {},
   "outputs": [],
   "source": [
    "# example 2\n",
    "\n",
    "count_vectorizer = CountVectorizer(stop_words='english', ngram_range=(1, 2))\n",
    "\n",
    "train_count_vectorizer = count_vectorizer.fit_transform(newsgroups_train.data)\n",
    "test_count_vectorizer = count_vectorizer.transform(newsgroups_test.data)\n",
    "\n",
    "clf = LogisticRegression(random_state=0).fit(train_count_vectorizer, newsgroups_train.target)\n",
    "predicted = clf.predict(test_count_vectorizer)\n",
    "\n",
    "print(classification_report(newsgroups_test.target, predicted))"
   ]
  },
  {
   "cell_type": "markdown",
   "metadata": {},
   "source": [
    "## Vectorization with TFIDF"
   ]
  },
  {
   "cell_type": "code",
   "execution_count": null,
   "metadata": {},
   "outputs": [],
   "source": [
    "tfidf_vectorizer = TfidfVectorizer(max_df=500, min_df=10)\n",
    "\n",
    "tfidf_train = tfidf_vectorizer.fit_transform(newsgroups_train.data)\n",
    "tfidf_test =  tfidf_vectorizer.transform(newsgroups_test.data)\n",
    "\n",
    "clf = LogisticRegression().fit(tfidf_train, newsgroups_train.target)\n",
    "\n",
    "predicted = clf.predict(tfidf_test)\n",
    "print(classification_report(newsgroups_test.target, predicted))"
   ]
  },
  {
   "cell_type": "code",
   "execution_count": null,
   "metadata": {},
   "outputs": [],
   "source": []
  }
 ],
 "metadata": {
  "kernelspec": {
   "display_name": "Python 3 (ipykernel)",
   "language": "python",
   "name": "python3"
  },
  "language_info": {
   "codemirror_mode": {
    "name": "ipython",
    "version": 3
   },
   "file_extension": ".py",
   "mimetype": "text/x-python",
   "name": "python",
   "nbconvert_exporter": "python",
   "pygments_lexer": "ipython3",
   "version": "3.11.14"
  }
 },
 "nbformat": 4,
 "nbformat_minor": 4
}
